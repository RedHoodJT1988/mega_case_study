{
  "nbformat": 4,
  "nbformat_minor": 0,
  "metadata": {
    "colab": {
      "name": "Mega_Case_Study.ipynb",
      "provenance": []
    },
    "kernelspec": {
      "name": "python3",
      "display_name": "Python 3"
    },
    "language_info": {
      "name": "python"
    }
  },
  "cells": [
    {
      "cell_type": "markdown",
      "source": [
        "# Mega Case Study - Make a Hybrid Deep Learning Map"
      ],
      "metadata": {
        "id": "3fgV0CdW_rbN"
      }
    },
    {
      "cell_type": "markdown",
      "source": [
        "## Install MiniSom Package"
      ],
      "metadata": {
        "id": "CvGYPwkRAhEu"
      }
    },
    {
      "cell_type": "code",
      "source": [
        "!pip install MiniSom"
      ],
      "metadata": {
        "colab": {
          "base_uri": "https://localhost:8080/"
        },
        "id": "_O9Ehq4F_3dH",
        "outputId": "efa4530f-dbf7-47e3-c9e6-52d13e50891f"
      },
      "execution_count": 7,
      "outputs": [
        {
          "output_type": "stream",
          "name": "stdout",
          "text": [
            "Requirement already satisfied: MiniSom in /usr/local/lib/python3.7/dist-packages (2.3.0)\n"
          ]
        }
      ]
    },
    {
      "cell_type": "markdown",
      "source": [
        "## Part 1 - Identify the Frauds with the Self-Organizing Map"
      ],
      "metadata": {
        "id": "Gwf7A6ZY_4mr"
      }
    },
    {
      "cell_type": "markdown",
      "source": [
        "### Importing the Libraries"
      ],
      "metadata": {
        "id": "s6_8epoEAknJ"
      }
    },
    {
      "cell_type": "code",
      "source": [
        "import numpy as np\n",
        "import matplotlib.pyplot as plt\n",
        "import pandas as pd"
      ],
      "metadata": {
        "id": "n16D2MUo_9Cq"
      },
      "execution_count": 8,
      "outputs": []
    },
    {
      "cell_type": "markdown",
      "source": [
        "### Importing the Dataset"
      ],
      "metadata": {
        "id": "9vEv2vsmAmwe"
      }
    },
    {
      "cell_type": "code",
      "source": [
        "dataset = pd.read_csv('Credit_Card_Applications.csv')\n",
        "X = dataset.iloc[:, :-1].values\n",
        "y = dataset.iloc[:, -1].values"
      ],
      "metadata": {
        "id": "BFVaoyjvCYlF"
      },
      "execution_count": 9,
      "outputs": []
    },
    {
      "cell_type": "markdown",
      "source": [
        "### Feature Scaling"
      ],
      "metadata": {
        "id": "IPz9PSSdApRv"
      }
    },
    {
      "cell_type": "code",
      "source": [
        "from sklearn.preprocessing import MinMaxScaler\n",
        "sc = MinMaxScaler(feature_range = (0, 1))\n",
        "X = sc.fit_transform(X)"
      ],
      "metadata": {
        "id": "iFWmZZ9CBMup"
      },
      "execution_count": 10,
      "outputs": []
    },
    {
      "cell_type": "markdown",
      "source": [
        "### Training the SOM"
      ],
      "metadata": {
        "id": "k6ntC3ouArB6"
      }
    },
    {
      "cell_type": "code",
      "source": [
        "from minisom import MiniSom\n",
        "som = MiniSom(x=10, y=10, input_len= 15, sigma= 1.0, learning_rate = 0.5)\n",
        "som.random_weights_init(X)\n",
        "som.train_random(data = X, num_iteration = 100)"
      ],
      "metadata": {
        "id": "ngGCDU3mBMHo"
      },
      "execution_count": 12,
      "outputs": []
    },
    {
      "cell_type": "markdown",
      "source": [
        "### Visualizing the results"
      ],
      "metadata": {
        "id": "GfQQMEILAtae"
      }
    },
    {
      "cell_type": "code",
      "source": [
        "from pylab import bone, pcolor, colorbar, plot, show\n",
        "bone()\n",
        "pcolor(som.distance_map().T)\n",
        "colorbar()\n",
        "markers = ['o', 's']\n",
        "colors = ['r', 'g']\n",
        "for i, x in enumerate(X):\n",
        "    w = som.winner(x)\n",
        "    plot(w[0] + 0.5,\n",
        "         w[1] + 0.5,\n",
        "         markers[y[i]],\n",
        "         markeredgecolor = colors[y[i]],\n",
        "         markerfacecolor = 'None',\n",
        "         markersize = 10,\n",
        "         markeredgewidth = 2)\n",
        "show()"
      ],
      "metadata": {
        "colab": {
          "base_uri": "https://localhost:8080/",
          "height": 269
        },
        "id": "wveiM1TUBLyM",
        "outputId": "7a6ebfde-2cc3-444a-ba2c-a78d594991dd"
      },
      "execution_count": 15,
      "outputs": [
        {
          "output_type": "display_data",
          "data": {
            "text/plain": [
              "<Figure size 432x288 with 2 Axes>"
            ],
            "image/png": "[encoded data removed]"
          },
          "metadata": {
            "needs_background": "light"
          }
        }
      ]
    },
    {
      "cell_type": "markdown",
      "source": [
        "### Finding the frauds"
      ],
      "metadata": {
        "id": "CPE8taNUAvFd"
      }
    },
    {
      "cell_type": "code",
      "source": [
        "mappings = som.win_map(X)\n",
        "frauds = np.concatenate((mappings[(6,8)], mappings[(5,1)]), axis = 0)\n",
        "frauds = sc.inverse_transform(frauds)"
      ],
      "metadata": {
        "id": "7KjA5RMqBLTv"
      },
      "execution_count": 17,
      "outputs": []
    },
    {
      "cell_type": "markdown",
      "source": [
        "### Printing the Fraud Clients"
      ],
      "metadata": {
        "id": "Dm5eP2Y7AyXX"
      }
    },
    {
      "cell_type": "code",
      "source": [
        "print('Fraud Customer IDs')\n",
        "for i in frauds[:, 0]:\n",
        "  print(int(i))"
      ],
      "metadata": {
        "colab": {
          "base_uri": "https://localhost:8080/"
        },
        "id": "RwAuIVmLBJw7",
        "outputId": "74382055-8ad3-4b53-ed47-fd587fe03d14"
      },
      "execution_count": 18,
      "outputs": [
        {
          "output_type": "stream",
          "name": "stdout",
          "text": [
            "Fraud Customer IDs\n",
            "15767729\n",
            "15711446\n",
            "15596797\n",
            "15600975\n",
            "15787693\n",
            "15688210\n",
            "15704509\n",
            "15592914\n",
            "15793366\n",
            "15611973\n",
            "15623668\n",
            "15735106\n",
            "15688059\n",
            "15646521\n",
            "15660263\n",
            "15683276\n",
            "15652289\n",
            "15768777\n",
            "15791326\n",
            "15615670\n",
            "15779586\n",
            "15730150\n",
            "15662854\n",
            "15745375\n",
            "15638983\n",
            "15623210\n",
            "15734578\n",
            "15570508\n",
            "15627328\n",
            "15617991\n",
            "15750545\n",
            "15641007\n",
            "15665014\n"
          ]
        }
      ]
    },
    {
      "cell_type": "markdown",
      "source": [
        "## Part 2 - Going from Unsupervised to Supervised Deep Learning"
      ],
      "metadata": {
        "id": "XcsCy9Uz_9bv"
      }
    },
    {
      "cell_type": "markdown",
      "source": [
        "### Create Matrix of Features"
      ],
      "metadata": {
        "id": "cxOdSsE9A3za"
      }
    },
    {
      "cell_type": "code",
      "source": [
        "customers = dataset.iloc[:, 1:].values"
      ],
      "metadata": {
        "id": "813Rl7XUA6RP"
      },
      "execution_count": 19,
      "outputs": []
    },
    {
      "cell_type": "markdown",
      "source": [
        "### Create Dependent Variable"
      ],
      "metadata": {
        "id": "bDMUs_ZxA6go"
      }
    },
    {
      "cell_type": "code",
      "source": [
        "is_fraud = np.zeros(len(dataset))\n",
        "for i in range(len(dataset)):\n",
        "  if dataset.iloc[i,0] in frauds:\n",
        "    is_fraud[i] = 1"
      ],
      "metadata": {
        "id": "2imyWXeaBIkL"
      },
      "execution_count": 20,
      "outputs": []
    },
    {
      "cell_type": "markdown",
      "source": [
        "## Part 3 - ANN"
      ],
      "metadata": {
        "id": "6_itD3sAA8yx"
      }
    },
    {
      "cell_type": "markdown",
      "source": [
        "### Feature Scaling"
      ],
      "metadata": {
        "id": "1Jwoh9s4A_Wl"
      }
    },
    {
      "cell_type": "code",
      "source": [
        "from sklearn.preprocessing import StandardScaler\n",
        "sc = StandardScaler()\n",
        "customers = sc.fit_transform(customers)"
      ],
      "metadata": {
        "id": "hh22QfHbBBDr"
      },
      "execution_count": 21,
      "outputs": []
    },
    {
      "cell_type": "markdown",
      "source": [
        "## Building the ANN"
      ],
      "metadata": {
        "id": "CowhgmPqBCJG"
      }
    },
    {
      "cell_type": "markdown",
      "source": [
        "## Import TensorFlow"
      ],
      "metadata": {
        "id": "xBemoDnjBDv9"
      }
    },
    {
      "cell_type": "code",
      "source": [
        "import tensorflow as tf\n",
        "tf.__version__"
      ],
      "metadata": {
        "colab": {
          "base_uri": "https://localhost:8080/",
          "height": 35
        },
        "id": "4M7c8kNIBGx6",
        "outputId": "28e984ce-3eb1-44ee-9227-61e7510cc463"
      },
      "execution_count": 22,
      "outputs": [
        {
          "output_type": "execute_result",
          "data": {
            "text/plain": [
              "'2.8.0'"
            ],
            "application/vnd.google.colaboratory.intrinsic+json": {
              "type": "string"
            }
          },
          "metadata": {},
          "execution_count": 22
        }
      ]
    },
    {
      "cell_type": "markdown",
      "source": [
        "## Initializing the ANN"
      ],
      "metadata": {
        "id": "cavT-GaYBO_m"
      }
    },
    {
      "cell_type": "code",
      "source": [
        "ann = tf.keras.models.Sequential()"
      ],
      "metadata": {
        "id": "CtOARsKlBREf"
      },
      "execution_count": 23,
      "outputs": []
    },
    {
      "cell_type": "markdown",
      "source": [
        "## Adding the input layer and the first hidden layer"
      ],
      "metadata": {
        "id": "OWhfmGxHBRss"
      }
    },
    {
      "cell_type": "code",
      "source": [
        "ann.add(tf.keras.layers.Dense(units=2, activation='relu'))"
      ],
      "metadata": {
        "id": "1QwiaV06BVEr"
      },
      "execution_count": 24,
      "outputs": []
    },
    {
      "cell_type": "markdown",
      "source": [
        "## Adding the output layer"
      ],
      "metadata": {
        "id": "iMaZFtwzBUIG"
      }
    },
    {
      "cell_type": "code",
      "source": [
        "ann.add(tf.keras.layers.Dense(units=1, activation='sigmoid'))"
      ],
      "metadata": {
        "id": "OCat_pLJBXvM"
      },
      "execution_count": 25,
      "outputs": []
    },
    {
      "cell_type": "markdown",
      "source": [
        "## Training the ANN"
      ],
      "metadata": {
        "id": "iQZr9nxVBYYO"
      }
    },
    {
      "cell_type": "markdown",
      "source": [
        "## Compiling the ANN"
      ],
      "metadata": {
        "id": "pF07k8eCBaxS"
      }
    },
    {
      "cell_type": "code",
      "source": [
        "ann.compile(optimizer = 'adam', loss = 'binary_crossentropy', metrics = ['accuracy'])"
      ],
      "metadata": {
        "id": "CAQw5bW8FTzJ"
      },
      "execution_count": 27,
      "outputs": []
    },
    {
      "cell_type": "markdown",
      "source": [
        "### Training the ANN on the Training set"
      ],
      "metadata": {
        "id": "P4xc8nrmBdTP"
      }
    },
    {
      "cell_type": "code",
      "source": [
        "ann.fit(customers, is_fraud, batch_size=1, epochs=10)"
      ],
      "metadata": {
        "colab": {
          "base_uri": "https://localhost:8080/"
        },
        "id": "-tw9-IP2FjzL",
        "outputId": "8a32eb5e-2093-4502-dbf5-b63119b4266d"
      },
      "execution_count": 28,
      "outputs": [
        {
          "output_type": "stream",
          "name": "stdout",
          "text": [
            "Epoch 1/10\n",
            "690/690 [==============================] - 3s 3ms/step - loss: 0.4029 - accuracy: 0.9493\n",
            "Epoch 2/10\n",
            "690/690 [==============================] - 2s 3ms/step - loss: 0.2317 - accuracy: 0.9522\n",
            "Epoch 3/10\n",
            "690/690 [==============================] - 2s 3ms/step - loss: 0.1809 - accuracy: 0.9522\n",
            "Epoch 4/10\n",
            "690/690 [==============================] - 2s 3ms/step - loss: 0.1599 - accuracy: 0.9522\n",
            "Epoch 5/10\n",
            "690/690 [==============================] - 2s 3ms/step - loss: 0.1464 - accuracy: 0.9522\n",
            "Epoch 6/10\n",
            "690/690 [==============================] - 2s 3ms/step - loss: 0.1374 - accuracy: 0.9522\n",
            "Epoch 7/10\n",
            "690/690 [==============================] - 2s 3ms/step - loss: 0.1310 - accuracy: 0.9522\n",
            "Epoch 8/10\n",
            "690/690 [==============================] - 2s 3ms/step - loss: 0.1261 - accuracy: 0.9522\n",
            "Epoch 9/10\n",
            "690/690 [==============================] - 2s 3ms/step - loss: 0.1231 - accuracy: 0.9522\n",
            "Epoch 10/10\n",
            "690/690 [==============================] - 2s 3ms/step - loss: 0.1202 - accuracy: 0.9522\n"
          ]
        },
        {
          "output_type": "execute_result",
          "data": {
            "text/plain": [
              "<keras.callbacks.History at 0x7fe8cfe1ea90>"
            ]
          },
          "metadata": {},
          "execution_count": 28
        }
      ]
    },
    {
      "cell_type": "markdown",
      "source": [
        "### Predicting test set results"
      ],
      "metadata": {
        "id": "zdbda8xOBgXv"
      }
    },
    {
      "cell_type": "code",
      "source": [
        "y_pred = ann.predict(customers)\n",
        "y_pred = np.concatenate((dataset.iloc[:, 0:1].values, y_pred), axis=1)\n",
        "y_pred = y_pred[y_pred[:, 1].argsort()]"
      ],
      "metadata": {
        "id": "t8aTaZ6yBib1"
      },
      "execution_count": 29,
      "outputs": []
    },
    {
      "cell_type": "code",
      "source": [
        "print(y_pred)"
      ],
      "metadata": {
        "colab": {
          "base_uri": "https://localhost:8080/"
        },
        "id": "VQWWkSuuBi1_",
        "outputId": "33023756-ea17-49b8-98b2-9e1641d3e56b"
      },
      "execution_count": 30,
      "outputs": [
        {
          "output_type": "stream",
          "name": "stdout",
          "text": [
            "[[1.57901130e+07 7.10511597e-12]\n",
            " [1.55775150e+07 7.52374660e-08]\n",
            " [1.56674600e+07 8.35585681e-08]\n",
            " ...\n",
            " [1.57486490e+07 2.52668053e-01]\n",
            " [1.57795860e+07 2.52668053e-01]\n",
            " [1.56389830e+07 2.52668053e-01]]\n"
          ]
        }
      ]
    }
  ]
}